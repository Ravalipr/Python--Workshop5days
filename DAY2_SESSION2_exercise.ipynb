{
  "nbformat": 4,
  "nbformat_minor": 0,
  "metadata": {
    "colab": {
      "name": " DAY2 SESSION2 exercise.ipynb",
      "provenance": [],
      "authorship_tag": "ABX9TyNKN8liUZJUFlbaiiXkgZqL",
      "include_colab_link": true
    },
    "kernelspec": {
      "name": "python3",
      "display_name": "Python 3"
    }
  },
  "cells": [
    {
      "cell_type": "markdown",
      "metadata": {
        "id": "view-in-github",
        "colab_type": "text"
      },
      "source": [
        "<a href=\"https://colab.research.google.com/github/Ravalipr/Python--Workshop5days/blob/master/DAY2_SESSION2_exercise.ipynb\" target=\"_parent\"><img src=\"https://colab.research.google.com/assets/colab-badge.svg\" alt=\"Open In Colab\"/></a>"
      ]
    },
    {
      "cell_type": "markdown",
      "metadata": {
        "id": "GtvYse7cLvpA",
        "colab_type": "text"
      },
      "source": [
        "#Dictionary"
      ]
    },
    {
      "cell_type": "markdown",
      "metadata": {
        "id": "99cNP7DEJx16",
        "colab_type": "text"
      },
      "source": [
        "#Removes all elements of dictionary dict\n",
        "\n"
      ]
    },
    {
      "cell_type": "code",
      "metadata": {
        "id": "J8_yd9TJJzuP",
        "colab_type": "code",
        "colab": {
          "base_uri": "https://localhost:8080/",
          "height": 52
        },
        "outputId": "fd76fa95-7e18-4e50-8d93-2e46d6b9e3a3"
      },
      "source": [
        "dict = {'Name': 'Zara', 'Age': 7};\n",
        "\n",
        "print(\"Start Len : %d\" %  len(dict))\n",
        "\n",
        "dict.clear()\n",
        "\n",
        "print(\"End Len : %d\" %  len(dict))\n",
        "\n"
      ],
      "execution_count": null,
      "outputs": [
        {
          "output_type": "stream",
          "text": [
            "Start Len : 2\n",
            "End Len : 0\n"
          ],
          "name": "stdout"
        }
      ]
    },
    {
      "cell_type": "markdown",
      "metadata": {
        "id": "4nJyys7MKCgf",
        "colab_type": "text"
      },
      "source": [
        "#Returns a list of dict's (key, value) tuple pairs"
      ]
    },
    {
      "cell_type": "code",
      "metadata": {
        "id": "_R2AEI1VKHhG",
        "colab_type": "code",
        "colab": {
          "base_uri": "https://localhost:8080/",
          "height": 35
        },
        "outputId": "1080c713-46a7-4025-fdf0-69757f85ca2b"
      },
      "source": [
        "dict = {'Name': 'Zara', 'Age': 7}\n",
        "\n",
        "print (\"Value : %s\" %  dict.items())"
      ],
      "execution_count": null,
      "outputs": [
        {
          "output_type": "stream",
          "text": [
            "Value : dict_items([('Name', 'Zara'), ('Age', 7)])\n"
          ],
          "name": "stdout"
        }
      ]
    },
    {
      "cell_type": "markdown",
      "metadata": {
        "id": "-Db8c6mAKNPL",
        "colab_type": "text"
      },
      "source": [
        "#Returns a copy of dictionary dict"
      ]
    },
    {
      "cell_type": "code",
      "metadata": {
        "id": "oJzq1FMyKRWi",
        "colab_type": "code",
        "colab": {
          "base_uri": "https://localhost:8080/",
          "height": 35
        },
        "outputId": "f143f3c4-5e81-464e-cb22-e60bb7eac60b"
      },
      "source": [
        "dict1 = {'Name': 'Zara', 'Age': 7};\n",
        "\n",
        "dict2 = dict1.copy()\n",
        "\n",
        "print (\"New Dictinary : %s\" %  str(dict2))"
      ],
      "execution_count": null,
      "outputs": [
        {
          "output_type": "stream",
          "text": [
            "New Dictinary : {'Name': 'Zara', 'Age': 7}\n"
          ],
          "name": "stdout"
        }
      ]
    },
    {
      "cell_type": "markdown",
      "metadata": {
        "id": "qSTKk-nDKWU8",
        "colab_type": "text"
      },
      "source": [
        "#Python Program to Generate a Dictionary that Contains Numbers (between 1 and n) in the Form (x,x*x)."
      ]
    },
    {
      "cell_type": "code",
      "metadata": {
        "id": "L43mD5rjKUr6",
        "colab_type": "code",
        "colab": {
          "base_uri": "https://localhost:8080/",
          "height": 52
        },
        "outputId": "c945e0b8-da2e-4f6b-de26-2f374c213292"
      },
      "source": [
        "n=int(input(\"Enter a number:\"))\n",
        "\n",
        "d={x:x*x for x in range(1,n+1)}\n",
        "\n",
        "print(d)"
      ],
      "execution_count": null,
      "outputs": [
        {
          "output_type": "stream",
          "text": [
            "Enter a number:4\n",
            "{1: 1, 2: 4, 3: 9, 4: 16}\n"
          ],
          "name": "stdout"
        }
      ]
    },
    {
      "cell_type": "markdown",
      "metadata": {
        "id": "a05-8YD-Kg9w",
        "colab_type": "text"
      },
      "source": [
        "#Python Program to Sum All the Items in a Dictionary"
      ]
    },
    {
      "cell_type": "code",
      "metadata": {
        "id": "20OLiVNaKnb8",
        "colab_type": "code",
        "colab": {
          "base_uri": "https://localhost:8080/",
          "height": 52
        },
        "outputId": "e2b612d1-1950-4203-bff2-f47e41a8b1e5"
      },
      "source": [
        "d={'A':100,'B':540,'C':239}\n",
        "\n",
        "print(\"Total sum of values in the dictionary:\")\n",
        "\n",
        "print(sum(d.values()))"
      ],
      "execution_count": null,
      "outputs": [
        {
          "output_type": "stream",
          "text": [
            "Total sum of values in the dictionary:\n",
            "879\n"
          ],
          "name": "stdout"
        }
      ]
    },
    {
      "cell_type": "markdown",
      "metadata": {
        "id": "IAHxK0-AKwFU",
        "colab_type": "text"
      },
      "source": [
        "#Python Program to Remove the Given Key from a Dictionary\n"
      ]
    },
    {
      "cell_type": "code",
      "metadata": {
        "id": "WM3ePKImKq9N",
        "colab_type": "code",
        "colab": {
          "base_uri": "https://localhost:8080/",
          "height": 104
        },
        "outputId": "0ae7d4b5-e5ed-41f5-b403-4745bcc3d299"
      },
      "source": [
        "d = {'a':1,'b':2,'c':3,'d':4}\n",
        "\n",
        "print(\"Initial dictionary\")\n",
        "\n",
        "print(d)\n",
        "\n",
        "key=input(\"Enter the key to delete(a-d):\")\n",
        "\n",
        "if key in d:\n",
        "\n",
        "    del d[key]\n",
        "\n",
        "else:\n",
        "    print(\"Key not found!\")\n",
        "\n",
        "    exit(0)\n",
        "\n",
        "print(\"Updated dictionary\")\n",
        "\n",
        "print(d)"
      ],
      "execution_count": null,
      "outputs": [
        {
          "output_type": "stream",
          "text": [
            "Initial dictionary\n",
            "{'a': 1, 'b': 2, 'c': 3, 'd': 4}\n",
            "Enter the key to delete(a-d):b\n",
            "Updated dictionary\n",
            "{'a': 1, 'c': 3, 'd': 4}\n"
          ],
          "name": "stdout"
        }
      ]
    },
    {
      "cell_type": "markdown",
      "metadata": {
        "id": "BruziAyyLaFU",
        "colab_type": "text"
      },
      "source": [
        "#Python Program to add name and mark as key->value pair in a Dictionary and print it.\n",
        "\n"
      ]
    },
    {
      "cell_type": "code",
      "metadata": {
        "id": "4Ujj3ZamLddY",
        "colab_type": "code",
        "colab": {
          "base_uri": "https://localhost:8080/",
          "height": 139
        },
        "outputId": "2d2013f2-3b02-4ac8-caf6-ae7b8114efc8"
      },
      "source": [
        "n=int(input(\"Enter no of records\"))\n",
        "\n",
        "d={}\n",
        "\n",
        "for i in range(1,n+1):\n",
        "\n",
        "    name= input(\"Enter name %d\"%(i))\n",
        "\n",
        "    mark=int(input(\"Enter mark %d\"%(i)))\n",
        "\n",
        "    d[name]=mark\n",
        "\n",
        "    print (d)"
      ],
      "execution_count": null,
      "outputs": [
        {
          "output_type": "stream",
          "text": [
            "Enter no of records2\n",
            "Enter name 1ravali\n",
            "Enter mark 120\n",
            "{'ravali': 20}\n",
            "Enter name 2rani\n",
            "Enter mark 230\n",
            "{'ravali': 20, 'rani': 30}\n"
          ],
          "name": "stdout"
        }
      ]
    },
    {
      "cell_type": "code",
      "metadata": {
        "id": "vRft6Gd5LfmU",
        "colab_type": "code",
        "colab": {}
      },
      "source": [
        ""
      ],
      "execution_count": null,
      "outputs": []
    },
    {
      "cell_type": "markdown",
      "metadata": {
        "id": "VeAi3iEML-KQ",
        "colab_type": "text"
      },
      "source": [
        "#Keys and Values example"
      ]
    },
    {
      "cell_type": "code",
      "metadata": {
        "id": "fZnqVRbbMCuC",
        "colab_type": "code",
        "colab": {
          "base_uri": "https://localhost:8080/",
          "height": 523
        },
        "outputId": "16834e75-1ddf-44c3-9757-49b29457bd34"
      },
      "source": [
        "d={}\n",
        "\n",
        "print(\" The dictionary elements are\")\n",
        "\n",
        "for i in range(1,21):\n",
        "\n",
        "  d[i]=i**2\n",
        "\n",
        "print(d)\n",
        "\n",
        "    # To print key and values\n",
        "\n",
        "print(\" Key==> Value are\")\n",
        "\n",
        "for (k,v) in d.items():         \n",
        "\n",
        "  print(k,\"==>\",v)\n",
        "\n",
        "  # To print key only\n",
        "\n",
        "print(\"\\nTo print key only\")\n",
        "\n",
        "for k in d.keys():    \n",
        "\n",
        "  print(k, end=\" \")\n",
        "\n",
        "  #To print value only\n",
        "\n",
        "print (\"\\nTo print values only\")\n",
        "\n",
        "for v in d.values(): \n",
        "\n",
        "  print(v, end=\" \")"
      ],
      "execution_count": null,
      "outputs": [
        {
          "output_type": "stream",
          "text": [
            " The dictionary elements are\n",
            "{1: 1, 2: 4, 3: 9, 4: 16, 5: 25, 6: 36, 7: 49, 8: 64, 9: 81, 10: 100, 11: 121, 12: 144, 13: 169, 14: 196, 15: 225, 16: 256, 17: 289, 18: 324, 19: 361, 20: 400}\n",
            " Key==> Value are\n",
            "1 ==> 1\n",
            "2 ==> 4\n",
            "3 ==> 9\n",
            "4 ==> 16\n",
            "5 ==> 25\n",
            "6 ==> 36\n",
            "7 ==> 49\n",
            "8 ==> 64\n",
            "9 ==> 81\n",
            "10 ==> 100\n",
            "11 ==> 121\n",
            "12 ==> 144\n",
            "13 ==> 169\n",
            "14 ==> 196\n",
            "15 ==> 225\n",
            "16 ==> 256\n",
            "17 ==> 289\n",
            "18 ==> 324\n",
            "19 ==> 361\n",
            "20 ==> 400\n",
            "\n",
            "To print key only\n",
            "1 2 3 4 5 6 7 8 9 10 11 12 13 14 15 16 17 18 19 20 \n",
            "To print values only\n",
            "1 4 9 16 25 36 49 64 81 100 121 144 169 196 225 256 289 324 361 400 "
          ],
          "name": "stdout"
        }
      ]
    },
    {
      "cell_type": "markdown",
      "metadata": {
        "id": "w2vTk1FCMKiO",
        "colab_type": "text"
      },
      "source": [
        "#Python program to convert 2 digit number into words"
      ]
    },
    {
      "cell_type": "code",
      "metadata": {
        "id": "XUOTe44CMORT",
        "colab_type": "code",
        "colab": {
          "base_uri": "https://localhost:8080/",
          "height": 52
        },
        "outputId": "80a1b709-62da-4e0d-9538-0ce8d9ca5b4f"
      },
      "source": [
        "d={0:'',1:'one',2:'two',3:'three',4:'four',5:'five',6:'six',7:'seven',8:'eight',9:'nine',\\\n",
        "\n",
        "   10:'ten',11:'eleven',12:'twelve',13:'thirteen',14:'fourteen',15:'fifteen',16:'sixteen',\\\n",
        "\n",
        "   17:'seventeen',18:'eightteen',19:'nineteen',20:'twenty',30:'thirty',40:'fourty',50:'fifty',\\\n",
        "\n",
        "   60:'sixty',70:'seventy',80:'eighty',90:'ninty'}\n",
        "\n",
        " \n",
        "\n",
        "num=int(input(\"Enter the integer between 1 to 99:\"))\n",
        "\n",
        "if (num<=20):\n",
        "\n",
        "      print(d[num])\n",
        "\n",
        "if(num>20 and num<100):\n",
        "\n",
        "        if num%10==0:      \n",
        "\n",
        "            print(d[num])\n",
        "\n",
        "        else:\n",
        "\n",
        "            print(d[num//10*10]+\" \"+d[num%10])"
      ],
      "execution_count": null,
      "outputs": [
        {
          "output_type": "stream",
          "text": [
            "Enter the integer between 1 to 99:20\n",
            "twenty\n"
          ],
          "name": "stdout"
        }
      ]
    },
    {
      "cell_type": "markdown",
      "metadata": {
        "id": "zNh3cvrTMh3g",
        "colab_type": "text"
      },
      "source": [
        "\n",
        "\n",
        "Dictionary Exercises"
      ]
    },
    {
      "cell_type": "code",
      "metadata": {
        "id": "o0XPhOvXMhWM",
        "colab_type": "code",
        "colab": {}
      },
      "source": [
        "#Add rollno and marks {name:mark} for n number of students through keyboard in a dictionary and print the marks in descending order with respective name."
      ],
      "execution_count": null,
      "outputs": []
    },
    {
      "cell_type": "code",
      "metadata": {
        "id": "13gRBFKsMp7e",
        "colab_type": "code",
        "colab": {
          "base_uri": "https://localhost:8080/",
          "height": 139
        },
        "outputId": "0f47a97e-9f4b-4a7b-80d9-7b7942f523d4"
      },
      "source": [
        "n=int(input(\"Enter no of records\"))\n",
        "d={}\n",
        "import operator\n",
        "for i in range(1,n+1):\n",
        "  name= input(\"Enter name %d\"%(i))\n",
        "  mark=int(input(\"Enter mark %d\"%(i)))\n",
        "  d[name]=mark\n",
        "print(\"input: \",d)\n",
        "sorted_a= sorted(d.items(), key=operator.itemgetter(1),reverse=True)\n",
        "print(\"output: \",sorted_a)"
      ],
      "execution_count": null,
      "outputs": [
        {
          "output_type": "stream",
          "text": [
            "Enter no of records2\n",
            "Enter name 1ravi\n",
            "Enter mark 123\n",
            "Enter name 2reka\n",
            "Enter mark 234\n",
            "input:  {'ravi': 23, 'reka': 34}\n",
            "output:  [('reka', 34), ('ravi', 23)]\n"
          ],
          "name": "stdout"
        }
      ]
    },
    {
      "cell_type": "markdown",
      "metadata": {
        "id": "GOTOH2YnM3xc",
        "colab_type": "text"
      },
      "source": [
        "#Add name and salary {name:salary} for n number of employees through keyboard in a dictionary and print them in name alphabetical order with salary"
      ]
    },
    {
      "cell_type": "code",
      "metadata": {
        "id": "dJVlzwTLM9Kh",
        "colab_type": "code",
        "colab": {
          "base_uri": "https://localhost:8080/",
          "height": 139
        },
        "outputId": "a80842ae-a7e9-42ef-d3e7-df13a2f0bcff"
      },
      "source": [
        "n=int(input(\"Enter no of records\"))\n",
        "d={}\n",
        "import operator\n",
        "for i in range(1,n+1):\n",
        "  name= input(\"Enter name %d\"%(i))\n",
        "  s=float(input(\"Enter salary %d\"%(i)))\n",
        "  d[name]=s\n",
        "print(\"input: \",d)\n",
        "sorted_a= sorted(d.items(), key=operator.itemgetter(0))\n",
        "print(\"output: \",sorted_a)\n",
        "\n",
        "\n",
        "\n"
      ],
      "execution_count": null,
      "outputs": [
        {
          "output_type": "stream",
          "text": [
            "Enter no of records2\n",
            "Enter name 1ravi\n",
            "Enter salary 145\n",
            "Enter name 2ramya\n",
            "Enter salary 230000\n",
            "input:  {'ravi': 45.0, 'ramya': 30000.0}\n",
            "output:  [('ramya', 30000.0), ('ravi', 45.0)]\n"
          ],
          "name": "stdout"
        }
      ]
    },
    {
      "cell_type": "markdown",
      "metadata": {
        "id": "CwBOvUdvNNX_",
        "colab_type": "text"
      },
      "source": [
        "#Add name and salary {name:salary} for n number of employees through keyboard in a dictionary and print them in salary ascending order and sum, max, min and average of the salaries"
      ]
    },
    {
      "cell_type": "code",
      "metadata": {
        "id": "CRD5G0CnNOtH",
        "colab_type": "code",
        "colab": {
          "base_uri": "https://localhost:8080/",
          "height": 243
        },
        "outputId": "9b4b9aa0-cc04-463e-b992-7f8c3d198cce"
      },
      "source": [
        "n=int(input(\"Enter no of records\"))\n",
        "d={}\n",
        "import operator\n",
        "for i in range(1,n+1):\n",
        "  name= input(\"Enter name %d\"%(i))\n",
        "  s=float(input(\"Enter salary %d\"%(i)))\n",
        "  d[name]=s\n",
        "print(\"input: \",d)\n",
        "sorted_a= sorted(d.items(), key=operator.itemgetter(1))\n",
        "print(\"output: \",sorted_a)\n",
        "v = d.values()\n",
        "print(\"sum: \",sum(v))\n",
        "print(\"max: \",max(v))\n",
        "print(\"min: \",min(v))\n",
        "print(\"avg: \",(sum(v)/n))"
      ],
      "execution_count": null,
      "outputs": [
        {
          "output_type": "stream",
          "text": [
            "Enter no of records3\n",
            "Enter name 1raj\n",
            "Enter salary 120000\n",
            "Enter name 2rani\n",
            "Enter salary 2233555\n",
            "Enter name 3raju\n",
            "Enter salary 350000\n",
            "input:  {'raj': 20000.0, 'rani': 233555.0, 'raju': 50000.0}\n",
            "output:  [('raj', 20000.0), ('raju', 50000.0), ('rani', 233555.0)]\n",
            "sum:  303555.0\n",
            "max:  233555.0\n",
            "min:  20000.0\n",
            "avg:  101185.0\n"
          ],
          "name": "stdout"
        }
      ]
    },
    {
      "cell_type": "markdown",
      "metadata": {
        "id": "4blHyH9dNede",
        "colab_type": "text"
      },
      "source": [
        "#Add name and salary {name:salary} for n number of employees through keyboard in a dictionary and print only the employees whose salary is greater than 2000 but less than 4000\n",
        "\n"
      ]
    },
    {
      "cell_type": "code",
      "metadata": {
        "id": "WCT58JR-NRte",
        "colab_type": "code",
        "colab": {
          "base_uri": "https://localhost:8080/",
          "height": 173
        },
        "outputId": "e66d7f83-387f-4398-f462-c07a24a3a569"
      },
      "source": [
        "n=int(input(\"Enter no of records\"))\n",
        "d={}\n",
        "import operator\n",
        "for i in range(1,n+1):\n",
        "  name= input(\"Enter name %d\"%(i))\n",
        "  s=int(input(\"Enter salary %d\"%(i)))\n",
        "  d[name]=s\n",
        "print(\"input: \",d)\n",
        "for key,value in d.items():\n",
        "    if value>=2000 and value<=4000:\n",
        "         print(d[key],\"=\",key)"
      ],
      "execution_count": null,
      "outputs": [
        {
          "output_type": "stream",
          "text": [
            "Enter no of records3\n",
            "Enter name 1raju\n",
            "Enter salary 130000\n",
            "Enter name 2rani\n",
            "Enter salary 23000\n",
            "Enter name 3pavan\n",
            "Enter salary 340000\n",
            "input:  {'raju': 30000, 'rani': 3000, 'pavan': 40000}\n",
            "3000 = rani\n"
          ],
          "name": "stdout"
        }
      ]
    },
    {
      "cell_type": "code",
      "metadata": {
        "id": "nqthj91uNlkc",
        "colab_type": "code",
        "colab": {}
      },
      "source": [
        ""
      ],
      "execution_count": null,
      "outputs": []
    }
  ]
}