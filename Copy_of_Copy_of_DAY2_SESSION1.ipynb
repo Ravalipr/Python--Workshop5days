{
  "nbformat": 4,
  "nbformat_minor": 0,
  "metadata": {
    "colab": {
      "name": "Copy of Copy of DAY2 SESSION1.ipynb",
      "provenance": [],
      "collapsed_sections": [],
      "authorship_tag": "ABX9TyN5avg11pezXL9ffFNgDZ6X",
      "include_colab_link": true
    },
    "kernelspec": {
      "name": "python3",
      "display_name": "Python 3"
    }
  },
  "cells": [
    {
      "cell_type": "markdown",
      "metadata": {
        "id": "view-in-github",
        "colab_type": "text"
      },
      "source": [
        "<a href=\"https://colab.research.google.com/github/Ravalipr/Python--Workshop5days/blob/master/Copy_of_Copy_of_DAY2_SESSION1.ipynb\" target=\"_parent\"><img src=\"https://colab.research.google.com/assets/colab-badge.svg\" alt=\"Open In Colab\"/></a>"
      ]
    },
    {
      "cell_type": "markdown",
      "metadata": {
        "id": "4T47kxzKmzL6",
        "colab_type": "text"
      },
      "source": [
        "#print multiples of 3 upto 200 using a list"
      ]
    },
    {
      "cell_type": "code",
      "metadata": {
        "id": "Yd-Ju6KU8zmm",
        "colab_type": "code",
        "colab": {
          "base_uri": "https://localhost:8080/",
          "height": 55
        },
        "outputId": "00348a6f-a1a7-4f55-d6b4-66f77aaf7207"
      },
      "source": [
        "def multiple(m, n): \n",
        "    a = range(n, (m * n)+1, n)   \n",
        "    print(*a)   \n",
        "m = 66\n",
        "n = 3\n",
        "multiple(m, n)"
      ],
      "execution_count": null,
      "outputs": [
        {
          "output_type": "stream",
          "text": [
            "3 6 9 12 15 18 21 24 27 30 33 36 39 42 45 48 51 54 57 60 63 66 69 72 75 78 81 84 87 90 93 96 99 102 105 108 111 114 117 120 123 126 129 132 135 138 141 144 147 150 153 156 159 162 165 168 171 174 177 180 183 186 189 192 195 198\n"
          ],
          "name": "stdout"
        }
      ]
    },
    {
      "cell_type": "markdown",
      "metadata": {
        "id": "7bpRrRNvm5Tp",
        "colab_type": "text"
      },
      "source": [
        "#print the nos only divisable by 5 and 7 between 1000 and 2000 using a list( both inclusive)"
      ]
    },
    {
      "cell_type": "code",
      "metadata": {
        "id": "6VCjEHdsiKhU",
        "colab_type": "code",
        "colab": {
          "base_uri": "https://localhost:8080/",
          "height": 35
        },
        "outputId": "c0e96e92-80e8-437d-c9cd-365d5a41b682"
      },
      "source": [
        "nl=[]\n",
        "for x in range(1000, 2000):\n",
        "    if (x%7==0) and (x%5==0):\n",
        "        nl.append(str(x))\n",
        "print (','.join(nl))\n"
      ],
      "execution_count": null,
      "outputs": [
        {
          "output_type": "stream",
          "text": [
            "1015,1050,1085,1120,1155,1190,1225,1260,1295,1330,1365,1400,1435,1470,1505,1540,1575,1610,1645,1680,1715,1750,1785,1820,1855,1890,1925,1960,1995\n"
          ],
          "name": "stdout"
        }
      ]
    },
    {
      "cell_type": "markdown",
      "metadata": {
        "id": "EvCz0ITxl_mS",
        "colab_type": "text"
      },
      "source": [
        "#Add the n number of names in a list and print them alphabetically and reverse alphabetically.\n",
        "\n"
      ]
    },
    {
      "cell_type": "code",
      "metadata": {
        "id": "0UMxrisoiMXX",
        "colab_type": "code",
        "colab": {
          "base_uri": "https://localhost:8080/",
          "height": 173
        },
        "outputId": "e9acdfa7-5daf-480e-eb5d-9002d634329e"
      },
      "source": [
        "locations = list(input().split())\n",
        "\n",
        "print(\"Original order:\")\n",
        "print(locations)\n",
        "\n",
        "print(\"\\nAlphabetical:\")\n",
        "print(sorted(locations))\n",
        "print(\"\\nReverse alphabetical:\")\n",
        "print(sorted(locations, reverse=True))"
      ],
      "execution_count": null,
      "outputs": [
        {
          "output_type": "stream",
          "text": [
            " A B C D\n",
            "Original order:\n",
            "['A', 'B', 'C', 'D']\n",
            "\n",
            "Alphabetical:\n",
            "['A', 'B', 'C', 'D']\n",
            "\n",
            "Reverse alphabetical:\n",
            "['D', 'C', 'B', 'A']\n"
          ],
          "name": "stdout"
        }
      ]
    },
    {
      "cell_type": "markdown",
      "metadata": {
        "id": "Nf958BVBmmk_",
        "colab_type": "text"
      },
      "source": [
        "#Get  a string and store word by word as elements in a tuple and find the largest word in the  tuple and print it"
      ]
    },
    {
      "cell_type": "code",
      "metadata": {
        "id": "SNqO3vXmitA6",
        "colab_type": "code",
        "colab": {
          "base_uri": "https://localhost:8080/",
          "height": 121
        },
        "outputId": "d1bd0223-b988-43eb-94c2-6f31a9b2ba29"
      },
      "source": [
        "a=[]\n",
        "n= int(input(\"Enter the number of elements in list:\"))\n",
        "for x in range(0,n):\n",
        "    element=input(\"Enter element\" + str(x+1) + \":\")\n",
        "    a.append(element)\n",
        "max1=len(a[0])\n",
        "temp=a[0]\n",
        "for i in a:\n",
        "    if(len(i)>max1):\n",
        "       max1=len(i)\n",
        "       temp=i\n",
        "print(\"The word with the longest length is:\")\n",
        "print(temp)\n"
      ],
      "execution_count": null,
      "outputs": [
        {
          "output_type": "stream",
          "text": [
            "Enter the number of elements in list:3\n",
            "Enter element1:4\n",
            "Enter element2:6\n",
            "Enter element3:2\n",
            "The word with the longest length is:\n",
            "4\n"
          ],
          "name": "stdout"
        }
      ]
    },
    {
      "cell_type": "markdown",
      "metadata": {
        "id": "WQJd5UqJmTtO",
        "colab_type": "text"
      },
      "source": [
        "#Get rollno and marks (Rollno, mark) as list of tuples for n number of students through keyboard  and print them in marks descending order with rollno.\n",
        "\n"
      ]
    },
    {
      "cell_type": "code",
      "metadata": {
        "id": "gq-yAw6OjGo8",
        "colab_type": "code",
        "colab": {
          "base_uri": "https://localhost:8080/",
          "height": 121
        },
        "outputId": "9a3a897a-2589-4452-9e29-e8ff9253c01c"
      },
      "source": [
        "print(sorted([(input(\"Enter rollno: \"), input(\"Enter marks: \")) for i in range(int(input(\"Enter number of students\")))], key=lambda x: x[1],reverse=True))\n"
      ],
      "execution_count": null,
      "outputs": [
        {
          "output_type": "stream",
          "text": [
            "Enter number of students2\n",
            "Enter rollno: 120\n",
            "Enter marks: 10\n",
            "Enter rollno: 150\n",
            "Enter marks: 9\n",
            "[('150', '9'), ('120', '10')]\n"
          ],
          "name": "stdout"
        }
      ]
    },
    {
      "cell_type": "markdown",
      "metadata": {
        "id": "7kfPa98FmYgT",
        "colab_type": "text"
      },
      "source": [
        "#Get name and salary (name, salary) as list of tuples for n number of employees through keyboard  and print them in name alphabetical order with salary\n",
        "\n"
      ]
    },
    {
      "cell_type": "code",
      "metadata": {
        "id": "9TdVk2pdjZYq",
        "colab_type": "code",
        "colab": {
          "base_uri": "https://localhost:8080/",
          "height": 156
        },
        "outputId": "6639586f-f542-4bc8-f75b-5ad8150eb375"
      },
      "source": [
        "print(sorted([(input(\"Enter name: \"), input(\"Enter salary: \")) for i in range(int(input(\"Enter number of employees\")))], key=lambda x: x[0]))\n",
        "\n"
      ],
      "execution_count": null,
      "outputs": [
        {
          "output_type": "stream",
          "text": [
            "Enter number of employees3\n",
            "Enter name: RAVALI\n",
            "Enter salary: 100000\n",
            "Enter name: SRI\n",
            "Enter salary: 30000\n",
            "Enter name: SANA\n",
            "Enter salary: 400000\n",
            "[('RAVALI', '100000'), ('SANA', '400000'), ('SRI', '30000')]\n"
          ],
          "name": "stdout"
        }
      ]
    },
    {
      "cell_type": "code",
      "metadata": {
        "id": "05qjBVbQjh09",
        "colab_type": "code",
        "colab": {}
      },
      "source": [
        ""
      ],
      "execution_count": null,
      "outputs": []
    }
  ]
}